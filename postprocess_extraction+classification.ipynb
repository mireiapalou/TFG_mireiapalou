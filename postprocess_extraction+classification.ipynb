{
  "cells": [
    {
      "cell_type": "code",
      "execution_count": null,
      "metadata": {
        "id": "OfSKHK5cQ6By"
      },
      "outputs": [],
      "source": [
        "# IMPORTS\n",
        "from scipy.signal import find_peaks\n",
        "from scipy.ndimage.measurements import label\n",
        "import cv2\n",
        "import os\n",
        "import glob\n",
        "import numpy as np\n",
        "import matplotlib.pyplot as plt\n",
        "import scipy.io\n",
        "import scipy.signal as signal\n",
        "from scipy.interpolate import interp1d\n",
        "from sklearn import preprocessing\n",
        "from sklearn.model_selection import train_test_split\n",
        "from tensorflow.keras.callbacks import EarlyStopping\n",
        "from tensorflow.keras import layers\n",
        "from tensorflow.keras.layers import Input, Add, SpatialDropout1D,SpatialDropout2D,ReLU, LeakyReLU, Dense,Dropout, Activation, ZeroPadding1D, BatchNormalization, Flatten, Conv1D, Conv2D, AveragePooling1D, MaxPooling1D, GlobalMaxPooling2D\n",
        "from tensorflow.keras.models import Model, load_model, Sequential\n",
        "from tensorflow.keras.preprocessing import image\n",
        "import tensorflow as tf"
      ]
    },
    {
      "cell_type": "code",
      "execution_count": null,
      "metadata": {
        "id": "ny4rANuDKOpZ"
      },
      "outputs": [],
      "source": [
        "#define data_path"
      ]
    },
    {
      "cell_type": "markdown",
      "metadata": {
        "id": "T_IyxPQ9RdZw"
      },
      "source": [
        "### predefined functions"
      ]
    },
    {
      "cell_type": "code",
      "execution_count": null,
      "metadata": {
        "id": "1pn31SRSQ2KN"
      },
      "outputs": [],
      "source": [
        "def find_row_peaks(col_mean, top_k=3):\n",
        "    peaks = find_peaks(col_mean)[0] #find all peaks (indices)  (local maxima)   #, distance=100\n",
        "    peaks_value = col_mean[peaks] #get the values of the peaks\n",
        "    top_idx = np.sort(peaks_value.argsort()[-top_k:][::-1]) #order the inidces by peak value\n",
        "    peaks = peaks[top_idx] #get the indices of the top peaks ordered?\n",
        "    return peaks"
      ]
    },
    {
      "cell_type": "code",
      "execution_count": null,
      "metadata": {
        "id": "HqV0_wAkQ4J0"
      },
      "outputs": [],
      "source": [
        "def find_row_range(values, sections):\n",
        "  sub_values1 = values[sections[0]:sections[1] + 1] #get the values at the left side of peak\n",
        "  sub_values2 = values[sections[1]:sections[2] + 1] #get the values at the right side of peak\n",
        "\n",
        "  r1 = np.where(sub_values1 == np.min(sub_values1))[0][-1] #get the last index of the lowest value (last one before it starts to go up)\n",
        "  r2 = np.where(sub_values2 == np.min(sub_values2))[0][0] #get the firt index of the lowest value (when it starts to go down)\n",
        "  return r1 + sections[0], r2 + sections[1]   #contextualize it in the longer indices (not in the range of subvalues)"
      ]
    },
    {
      "cell_type": "code",
      "execution_count": null,
      "metadata": {
        "id": "XIZtG_fTXlY5"
      },
      "outputs": [],
      "source": [
        "def remove_small_objects(image_cp, threshold=100):\n",
        "    # image_cp = image.copy()\n",
        "    labeled_ch0, n_labels = label(image_cp, structure=np.ones((3, 3)))\n",
        "    values, counts = np.unique(labeled_ch0, return_counts=True)\n",
        "    for value, count in zip(values, counts):\n",
        "        if count < threshold:\n",
        "            image_cp[labeled_ch0 == value] = 0.0\n",
        "\n",
        "    image_cp[image_cp > 0] = 1.0\n",
        "    return image_cp"
      ]
    },
    {
      "cell_type": "code",
      "execution_count": null,
      "metadata": {
        "id": "BtdpnpwMUOqq"
      },
      "outputs": [],
      "source": [
        "def extract_signal(image):\n",
        "\n",
        "    # median row as center row\n",
        "    center_row = np.median(np.where(image == 1)[0])\n",
        "\n",
        "    signal = []\n",
        "    for col in range(image.shape[1]):\n",
        "        labeled_c, nc_objs = label(image[:, col])\n",
        "        if nc_objs < 1:\n",
        "            signal.append(np.nan)\n",
        "            continue\n",
        "        else:\n",
        "            labels_dis = []\n",
        "            for i in range(1, nc_objs + 1):\n",
        "                locs = np.where(labeled_c == i)[0]\n",
        "                center_dis = np.abs(locs - center_row)\n",
        "                labels_dis.append(np.min(center_dis))\n",
        "            min_dis_label = np.argmin(labels_dis) + 1\n",
        "            locs = np.where(labeled_c == min_dis_label)[0]\n",
        "            center_dis = np.abs(locs - center_row)\n",
        "            point_row = locs[np.argmax(center_dis)]\n",
        "            point_value = center_row - point_row\n",
        "            signal.append(np.max(point_value))\n",
        "            # signal.append(np.mean(point_value))\n",
        "\n",
        "       \n",
        "    return np.array(signal)"
      ]
    },
    {
      "cell_type": "code",
      "execution_count": null,
      "metadata": {
        "id": "Em41BvS_UKaN"
      },
      "outputs": [],
      "source": [
        "def image2signal(image, r1, r2):\n",
        "    image_crop = image.copy()[r1:r2 + 1, :]\n",
        "    signal = extract_signal(image_crop)\n",
        "\n",
        "    inds = np.arange(len(signal))\n",
        "    good = np.where(np.isfinite(signal))\n",
        "    f = interp1d(inds[good], signal[good],\n",
        "                 kind='cubic', bounds_error=False)\n",
        "    signal = np.where(np.isfinite(signal), signal, f(inds))\n",
        "\n",
        "    # fill nan at beginning or ending\n",
        "    inds = np.where(~np.isnan(signal))[0]\n",
        "    first, last = inds[0], inds[-1]\n",
        "    signal[:first] = signal[first]\n",
        "    signal[last + 1:] = signal[last]\n",
        "    return signal"
      ]
    },
    {
      "cell_type": "markdown",
      "metadata": {
        "id": "HZVNbe4vRgGy"
      },
      "source": [
        "### postprocess"
      ]
    },
    {
      "cell_type": "code",
      "execution_count": null,
      "metadata": {
        "id": "U7Z1kC1YQSNu"
      },
      "outputs": [],
      "source": [
        "# 1 get images\n",
        "\n",
        "folder = data_path+'/Results_unet'\n",
        "\n",
        "imgs = {}\n",
        "ids = []\n",
        "for filename in os.listdir(folder):\n",
        "  img = cv2.imread(os.path.join(folder,filename))\n",
        "  img = cv2.cvtColor(img, cv2.COLOR_BGR2GRAY)\n",
        "  imgs[filename.strip('.png')] = img\n",
        "  ids.append(filename.strip('.png'))\n",
        "\n",
        "print(\"No. of images = \", len(imgs))"
      ]
    },
    {
      "cell_type": "code",
      "execution_count": null,
      "metadata": {
        "id": "iZJKQzZqQlxx"
      },
      "outputs": [],
      "source": [
        "#postprocess\n",
        "\n",
        "#for every image\n",
        "\n",
        "sig = {}\n",
        "\n",
        "for id in ids:\n",
        "  image = imgs[id]\n",
        "  image_cp = image.copy()\n",
        "  image_cp = image_cp / 255.0\n",
        "\n",
        "  image_cp = (image_cp > 0.15) * 1.0\n",
        "  image_cp = image_cp[:, 40:]  \n",
        "\n",
        "  image_row_mean = np.mean(image_cp, axis=1)  #take the mean of each row of the matrix\n",
        "\n",
        "  peaks = find_row_peaks(image_row_mean, 12) #this number should be changed for other formats\n",
        "  layout = len(peaks)\n",
        "\n",
        "  row_signals = []\n",
        "  for i in range(len(peaks)):\n",
        "      if i == 0:\n",
        "          section = np.append([0], peaks[i:i + 2])\n",
        "      elif i == len(peaks) - 1:\n",
        "          section = np.append(peaks[i - 1:i + 1], [len(image_row_mean) - 1])\n",
        "      else:\n",
        "          section = peaks[i - 1:i + 2]\n",
        "\n",
        "      r1, r2 = find_row_range(image_row_mean, section)\n",
        "      row_signal = image2signal(image_cp, r1, r2)\n",
        "      row_signal_norm = 7.5*preprocessing.normalize([row_signal])  #NORMALIZE\n",
        "      row_signals.append(row_signal_norm)\n",
        "\n",
        "  mat = np.zeros([12, row_signal_norm.shape[1]])\n",
        "  for row in range(len(row_signals)):\n",
        "    mat[row,:] = row_signals[row]\n",
        "\n",
        "  sig[id] = mat"
      ]
    },
    {
      "cell_type": "markdown",
      "metadata": {
        "id": "O-EcFhqOgIdU"
      },
      "source": [
        "## classification"
      ]
    },
    {
      "cell_type": "markdown",
      "metadata": {
        "id": "ULnUjtdqlIJx"
      },
      "source": [
        "### training the model"
      ]
    },
    {
      "cell_type": "code",
      "execution_count": null,
      "metadata": {
        "colab": {
          "base_uri": "https://localhost:8080/"
        },
        "id": "nYBSx4QhgK0n",
        "outputId": "78a782d3-16a1-4b41-b3fc-baf93257b866"
      },
      "outputs": [
        {
          "output_type": "stream",
          "name": "stdout",
          "text": [
            "3202\n"
          ]
        }
      ],
      "source": [
        "#load ecg from matlab files\n",
        "os.chdir(data_path+'/mat')\n",
        "\n",
        "# Get a list for .mat files in current folder\n",
        "mat_files = glob.glob('*.mat')\n",
        "mat_files.sort()\n",
        "print(len(mat_files))\n",
        "\n",
        "# # List for stroring all the data\n",
        "aux = {}\n",
        "\n",
        "# Iterate mat files\n",
        "for fname in mat_files:\n",
        "    # Load mat file data into data.\n",
        "    data = scipy.io.loadmat(fname) #+'.mat'\n",
        "    # Append data to the list\n",
        "    aux[fname] = data['ECG']['data'][0][0]"
      ]
    },
    {
      "cell_type": "code",
      "source": [
        "#load ecg from matlab files\n",
        "os.chdir(data_path+'/mat/TrainingSet2')\n",
        "\n",
        "# Get a list for .mat files in current folder\n",
        "mat_files = glob.glob('*.mat')\n",
        "mat_files.sort()\n",
        "\n",
        "\n",
        "# Iterate mat files\n",
        "for fname in mat_files:\n",
        "  if fname not in aux:\n",
        "    # Load mat file data into data.\n",
        "    #print(fname)\n",
        "    data = scipy.io.loadmat(fname) #+'.mat'\n",
        "    # Append data to the list\n",
        "    aux[fname] = data['ECG']['data'][0][0]\n",
        "\n",
        "print(len(aux))"
      ],
      "metadata": {
        "id": "SuTj7_YWVJuC"
      },
      "execution_count": null,
      "outputs": []
    },
    {
      "cell_type": "code",
      "execution_count": null,
      "metadata": {
        "id": "CyRnKQVnkBRG",
        "colab": {
          "base_uri": "https://localhost:8080/"
        },
        "outputId": "17143f0b-cc4d-451c-c067-66cc8d8cd064"
      },
      "outputs": [
        {
          "output_type": "execute_result",
          "data": {
            "text/plain": [
              "3202"
            ]
          },
          "metadata": {},
          "execution_count": 15
        }
      ],
      "source": [
        "#get the numbers we are using\n",
        "num = []\n",
        "for n in list(aux.keys()):\n",
        "  t = n.strip('A')\n",
        "  tt = t.strip('.mat')\n",
        "  num.append(int(tt))\n",
        "\n",
        "len(num)"
      ]
    },
    {
      "cell_type": "code",
      "execution_count": null,
      "metadata": {
        "id": "0Mu31ovNgM67"
      },
      "outputs": [],
      "source": [
        "# One Hot Encoding for labels\n",
        "x = [[\"AF\"], [\"I-AVB\"], [\"LBBB\"], [\"Normal\"], [\"PAC\"],[\"PVC\"],[\"RBBB\"],[\"STD\"],[\"STE\"]]\n",
        "y = preprocessing.OneHotEncoder().fit_transform(x).toarray()\n",
        "one_hot = {}\n",
        "one_hot['AF'] = y[0]\n",
        "one_hot['I-AVB'] = y[1]\n",
        "one_hot['LBBB'] = y[2]\n",
        "one_hot['Normal'] = y[3]\n",
        "one_hot['PAC'] = y[4]\n",
        "one_hot['PVC'] = y[5]\n",
        "one_hot['RBBB'] = y[6]\n",
        "one_hot['STD'] = y[7]\n",
        "one_hot['STE'] = y[8]"
      ]
    },
    {
      "cell_type": "code",
      "execution_count": null,
      "metadata": {
        "id": "4SaH50RugaG1"
      },
      "outputs": [],
      "source": [
        "# Load labels\n",
        "\n",
        "list_labels = list()\n",
        "f = open(data_path+\"labels.txt\", \"r\")\n",
        "\n",
        "for i, line in enumerate(f):\n",
        "  if i+1 in num:\n",
        "    list_labels.append(one_hot[line[0:-1]])\n",
        "\n",
        "\n",
        "# # # # # Duplicate signals and its labels\n",
        "list_data = list()\n",
        "\n",
        "for j in range(0,2):\n",
        "  for id in mat_files:\n",
        "    list_data.append(aux[id][:,1000*j:1000*(j+1)])\n",
        "        \n",
        "        \n",
        "labels_aux = np.zeros([len(list_labels)*2,9])\n",
        "labels_aux[0:len(list_labels),:]=list_labels\n",
        "labels_aux[len(list_labels):,:]=list_labels"
      ]
    },
    {
      "cell_type": "code",
      "execution_count": null,
      "metadata": {
        "id": "i9AWuDf3huGY"
      },
      "outputs": [],
      "source": [
        "# filter the signal with butterworth bandpass filter\n",
        "\n",
        "lowcut= 1\n",
        "highcut=35\n",
        "signal_freq=500\n",
        "filter_order=1\n",
        "nyquist_freq = 0.5 * signal_freq\n",
        "low = lowcut / nyquist_freq\n",
        "high = highcut / nyquist_freq\n",
        "b, a = signal.butter(filter_order, [low, high], btype=\"band\")\n",
        "\n",
        "data_aux = np.zeros([len(list_data), len(list_data[0]), len(list_data[0][0])])\n",
        "\n",
        "for j in range(0, len(list_data)):\n",
        "    for i in range(0,12):\n",
        "        data_aux[j,i,:] = signal.filtfilt(b, a, list_data[j][i])"
      ]
    },
    {
      "cell_type": "markdown",
      "metadata": {
        "id": "1VgtKdRaQu7V"
      },
      "source": [
        "### data aug"
      ]
    },
    {
      "cell_type": "code",
      "execution_count": null,
      "metadata": {
        "id": "Q86n_JWdQwTx"
      },
      "outputs": [],
      "source": [
        "#data augmentation\n",
        "def SignalPower(X):\n",
        "    return np.mean((X - np.median(X))**2)\n",
        "\n",
        "def additive_white_gaussian_noise(X, snr):\n",
        "    # Compute signal power\n",
        "    Power = SignalPower(X)\n",
        "\n",
        "    # Calculate signal to noise ratio with randomness\n",
        "    SignalToNoiseRatio  = snr + np.random.uniform(low=-snr/10, high=snr/10)\n",
        "    NoisePower = Power/10**(SignalToNoiseRatio/10.)\n",
        "    Noise = np.random.normal(0,np.sqrt(NoisePower),len(X))\n",
        "\n",
        "    return (Noise + X)"
      ]
    },
    {
      "cell_type": "code",
      "execution_count": null,
      "metadata": {
        "id": "u173ESVnQyuK"
      },
      "outputs": [],
      "source": [
        "import random\n",
        "\n",
        "aleatorio = np.zeros(np.int32(round(len(data_aux)/6)))\n",
        "aux = np.zeros([round(len(data_aux)/6),12,1000])\n",
        "\n",
        "for i in range(0,round(len(data_aux)/6)):\n",
        "    aleatorio[i] = random.uniform(0, 2)\n",
        "    \n",
        "    for j in range(0,12):\n",
        "        aux[i,j,:] = additive_white_gaussian_noise(data_aux[i,j,:],aleatorio[i])\n",
        "        \n",
        "\n",
        "data = np.zeros([len(data_aux)+len(aux), 12, 1000])\n",
        "data[0:len(data_aux),:,:] = data_aux\n",
        "data[len(data_aux):,:,:] = aux\n",
        "\n",
        "labels = np.zeros([len(labels_aux)+len(aux), 9])\n",
        "labels[0:len(labels_aux),:] = labels_aux\n",
        "labels[len(labels_aux):,:] = labels_aux[0:len(aux),:]"
      ]
    },
    {
      "cell_type": "markdown",
      "metadata": {
        "id": "qNHc7R99Rm4o"
      },
      "source": [
        "### s"
      ]
    },
    {
      "cell_type": "code",
      "execution_count": null,
      "metadata": {
        "id": "N0jcD-gJhzph"
      },
      "outputs": [],
      "source": [
        "Data = np.zeros(data.shape)\n",
        "\n",
        "for i in range((data.shape[0])):\n",
        "    for j in range(0,12):\n",
        "        Data[i,j,:] = preprocessing.minmax_scale(data[i,j,:], (-100,100))\n",
        "        \n",
        "Data = np.transpose(Data, axes=(0,2,1))"
      ]
    },
    {
      "cell_type": "code",
      "execution_count": null,
      "metadata": {
        "id": "kVbde2a0jdtz",
        "colab": {
          "base_uri": "https://localhost:8080/"
        },
        "outputId": "9fb8437e-c99f-4a72-c060-9a70f56c6029"
      },
      "outputs": [
        {
          "output_type": "execute_result",
          "data": {
            "text/plain": [
              "(7471, 1000, 12)"
            ]
          },
          "metadata": {},
          "execution_count": 22
        }
      ],
      "source": [
        "Data.shape"
      ]
    },
    {
      "cell_type": "code",
      "execution_count": null,
      "metadata": {
        "id": "w-XftHFxjfb6",
        "colab": {
          "base_uri": "https://localhost:8080/"
        },
        "outputId": "fe7e8491-01b4-41a9-e75e-f8b61267df29"
      },
      "outputs": [
        {
          "output_type": "execute_result",
          "data": {
            "text/plain": [
              "(7471, 9)"
            ]
          },
          "metadata": {},
          "execution_count": 23
        }
      ],
      "source": [
        "labels.shape"
      ]
    },
    {
      "cell_type": "code",
      "execution_count": null,
      "metadata": {
        "id": "OSM4IrCJh2Y8"
      },
      "outputs": [],
      "source": [
        "X_train, X_test, y_train, y_test = train_test_split(Data, labels, test_size=0.2, random_state=42)\n",
        "X_train, X_val, y_train, y_val = train_test_split(X_train, y_train, test_size=0.2, random_state=42)"
      ]
    },
    {
      "cell_type": "code",
      "execution_count": null,
      "metadata": {
        "id": "CsUeyTgfc8oB",
        "scrolled": true
      },
      "outputs": [],
      "source": [
        "callback = EarlyStopping(monitor='loss', patience=3)\n",
        "X_input = Input(shape=(1000,12))\n",
        "Y=Conv1D(32,5, strides=2)(X_input)\n",
        "# X=BatchNormalization()(Y)\n",
        "# X=LeakyReLU()(X)\n",
        "X = MaxPooling1D(3, strides=2, padding='same')(Y)\n",
        "  \n",
        "#Save the input value\n",
        "X_shortcut=X\n",
        "\n",
        "####first block ####\n",
        "X=Conv1D(32,1, strides=1, padding='same')(X)\n",
        "X=BatchNormalization()(X)\n",
        "X=LeakyReLU()(X)\n",
        "X=SpatialDropout1D(0.5)(X)\n",
        "\n",
        "\n",
        "X=Conv1D(32,3, strides=1,  padding='same')(X)\n",
        "X= BatchNormalization()(X)\n",
        "X=LeakyReLU()(X)\n",
        "#X=SpatialDropout1D(0.5)(X)\n",
        "\n",
        "X=Conv1D(128,1, strides=1,  padding='same')(X)\n",
        "X= BatchNormalization()(X)\n",
        "X=LeakyReLU()(X)\n",
        "#X=SpatialDropout1D(0.5)(X)\n",
        "\n",
        "X_shortcut =Conv1D(128,3, strides=1,  padding='same')(X_shortcut)\n",
        "X_shortcut= BatchNormalization()(X_shortcut)\n",
        "#X_shortcut= LeakyReLU()(X_shortcut)\n",
        "\n",
        "X = Add()([X_shortcut,X])\n",
        "X = LeakyReLU()(X)\n",
        "\n",
        "####second block####\n",
        "\n",
        "#Skip connection\n",
        "X_shortcut=X\n",
        "\n",
        "X=Conv1D(64,1, strides=2, padding='same')(X)\n",
        "X=BatchNormalization()(X)\n",
        "X=LeakyReLU()(X)\n",
        "X=SpatialDropout1D(0.2)(X)\n",
        "\n",
        "X=Conv1D(64,3, strides=1,  padding='same')(X)\n",
        "X= BatchNormalization()(X)\n",
        "X=LeakyReLU()(X)\n",
        "#X=SpatialDropout1D(0.5)(X)\n",
        "\n",
        "X=Conv1D(256,3, strides=1,  padding='same')(X)\n",
        "X= BatchNormalization()(X)\n",
        "X=LeakyReLU()(X)\n",
        "#X=SpatialDropout1D(0.5)(X)\n",
        "\n",
        "X_shortcut =Conv1D(256,3, strides=2,  padding='same')(X_shortcut)\n",
        "X_shortcut= BatchNormalization()(X_shortcut)\n",
        "#X_shortcut= LeakyReLU()(X_shortcut)\n",
        "\n",
        "\n",
        "X = Add()([X_shortcut,X])\n",
        "X = LeakyReLU()(X)\n",
        "\n",
        "##third block##\n",
        "X_shortcut=X\n",
        "\n",
        "X=Conv1D(128,1, strides=2, padding='same')(X)\n",
        "X=BatchNormalization()(X)\n",
        "X=LeakyReLU()(X)\n",
        "X=SpatialDropout1D(0.2)(X)\n",
        "\n",
        "X=Conv1D(128,3, strides=1,  padding='same')(X)\n",
        "X= BatchNormalization()(X)\n",
        "X=LeakyReLU()(X)\n",
        "#X=SpatialDropout1D(0.5)(X)\n",
        "\n",
        "X=Conv1D(512,3, strides=1,  padding='same')(X)\n",
        "X= BatchNormalization()(X)\n",
        "X=LeakyReLU()(X)\n",
        "#X=SpatialDropout1D(0.5)(X)\n",
        "\n",
        "X_shortcut =Conv1D(512,3, strides=2,  padding='same')(X_shortcut)\n",
        "X_shortcut= BatchNormalization()(X_shortcut)\n",
        "#X_shortcut= LeakyReLU()(X_shortcut)\n",
        "\n",
        "\n",
        "X = Add()([X_shortcut,X])\n",
        "X = LeakyReLU()(X)\n",
        "\n",
        "# ##fourth block##\n",
        "X_shortcut=X\n",
        "\n",
        "X=Conv1D(256,1, strides=2, padding='same')(X)\n",
        "X=BatchNormalization()(X)\n",
        "X=LeakyReLU()(X)\n",
        "X=SpatialDropout1D(0.2)(X)\n",
        "\n",
        "X=Conv1D(256,3, strides=1,  padding='same')(X)\n",
        "X= BatchNormalization()(X)\n",
        "X=LeakyReLU()(X)\n",
        "#X=SpatialDropout1D(0.5)(X)\n",
        "\n",
        "X=Conv1D(1024,3, strides=1,  padding='same')(X)\n",
        "X= BatchNormalization()(X)\n",
        "X=LeakyReLU()(X)\n",
        "#X=SpatialDropout1D(0.5)(X)\n",
        "\n",
        "X_shortcut =Conv1D(1024,3, strides=2,  padding='same')(X_shortcut)\n",
        "X_shortcut= BatchNormalization()(X_shortcut)\n",
        "#X_shortcut= LeakyReLU()(X_shortcut)\n",
        "\n",
        "X = Add()([X_shortcut,X])\n",
        "X = LeakyReLU()(X)\n",
        "\n",
        "X=AveragePooling1D(10)(X)\n",
        "X = Flatten()(X)\n",
        "X= Dense(20,activation='tanh')(X)\n",
        "output=Dense(9,activation='softmax')(X)\n",
        "\n",
        "model = Model(inputs = X_input, outputs = output, name='ResNet50')\n",
        "# model.summary()"
      ]
    },
    {
      "cell_type": "code",
      "execution_count": null,
      "metadata": {
        "id": "Slp9JpwVhJuO"
      },
      "outputs": [],
      "source": [
        "model.compile(optimizer='Adam', loss='categorical_crossentropy', metrics=['accuracy'])"
      ]
    },
    {
      "cell_type": "code",
      "execution_count": null,
      "metadata": {
        "id": "a7eE_cXAkuTA"
      },
      "outputs": [],
      "source": [
        "history=model.fit(X_train,y_train,epochs=600, batch_size=32, validation_data=(X_val,y_val)) #BATCH SIZE 100,callbacks=[callback]"
      ]
    },
    {
      "cell_type": "code",
      "execution_count": null,
      "metadata": {
        "id": "loZhMLIeVjP6"
      },
      "outputs": [],
      "source": [
        "results = history\n",
        "plt.figure(figsize=(8, 8))\n",
        "plt.title(\"Learning curve\")\n",
        "plt.plot(results.history[\"loss\"], label=\"loss\")\n",
        "plt.plot(results.history[\"val_loss\"], label=\"val_loss\")\n",
        "plt.plot( np.argmin(results.history[\"val_loss\"]), np.min(results.history[\"val_loss\"]), marker=\"x\", color=\"r\", label=\"best model\")\n",
        "plt.xlabel(\"Epochs\")\n",
        "plt.ylabel(\"log_loss\")\n",
        "plt.legend()"
      ]
    },
    {
      "cell_type": "code",
      "execution_count": null,
      "metadata": {
        "id": "g94vYysHlbW0"
      },
      "outputs": [],
      "source": [
        "# Evaluate the model on the test data using `evaluate`\n",
        "print(\"Evaluate on test data\")\n",
        "results = model.evaluate(X_test, y_test, batch_size=100)\n",
        "print(\"test loss, test acc:\", results)"
      ]
    },
    {
      "cell_type": "markdown",
      "metadata": {
        "id": "EHOpK-PVlMcZ"
      },
      "source": [
        "## prediction"
      ]
    },
    {
      "cell_type": "code",
      "execution_count": null,
      "metadata": {
        "id": "1fXKO_M4hwY8"
      },
      "outputs": [],
      "source": [
        "#prepare the extracted signals\n",
        "aa = []\n",
        "\n",
        "for id in list(sig.keys()):\n",
        "\n",
        "  Dat = np.transpose(sig[id])\n",
        "\n",
        "  a = np.zeros([1000,12])\n",
        "  a[:Dat.shape[0],] = Dat\n",
        "  a[Dat.shape[0]:,] = Dat[:(1000-Dat.shape[0]),]\n",
        "\n",
        "  aa.append(a)\n",
        "\n",
        "X_mp = np.array(aa)"
      ]
    },
    {
      "cell_type": "code",
      "execution_count": null,
      "metadata": {
        "id": "e7-coC6YlCOt"
      },
      "outputs": [],
      "source": [
        "pred=model.predict(X_mp, verbose=1)\n",
        "fig, ax = plt.subplots()\n",
        "ax.matshow(pred, cmap=plt.cm.Greys, aspect='auto')"
      ]
    },
    {
      "cell_type": "code",
      "source": [
        "#get the supposed labels of the predicted\n",
        "num_pred = []\n",
        "for n in ids:\n",
        "  t = n.strip('A')\n",
        "  num_pred.append(int(t))\n",
        "\n",
        "num_pred.sort()\n",
        "labels_pred = []\n",
        "f = open(data_path+\"labels.txt\", \"r\")\n",
        "\n",
        "for i, line in enumerate(f):\n",
        "  if i+1 in num_pred:\n",
        "    labels_pred.append(one_hot[line[0:-1]])\n",
        "\n",
        "len(labels_pred)"
      ],
      "metadata": {
        "id": "shpm7tq0PzSb"
      },
      "execution_count": null,
      "outputs": []
    },
    {
      "cell_type": "code",
      "source": [
        "fig, ax = plt.subplots()\n",
        "ax.matshow(labels_pred, cmap=plt.cm.Greys, aspect='auto')"
      ],
      "metadata": {
        "colab": {
          "base_uri": "https://localhost:8080/",
          "height": 286
        },
        "id": "5kj96ahoU3_w",
        "outputId": "777b1b66-7194-47bc-de95-6bb1773afc48"
      },
      "execution_count": null,
      "outputs": [
        {
          "output_type": "execute_result",
          "data": {
            "text/plain": [
              "<matplotlib.image.AxesImage at 0x7fdef470a7d0>"
            ]
          },
          "metadata": {},
          "execution_count": 14
        },
        {
          "output_type": "display_data",
          "data": {
            "text/plain": [
              "<Figure size 432x288 with 1 Axes>"
            ],
            "image/png": "[encoded data removed]"
          },
          "metadata": {
            "needs_background": "light"
          }
        }
      ]
    }
  ],
  "metadata": {
    "accelerator": "GPU",
    "colab": {
      "collapsed_sections": [
        "1VgtKdRaQu7V"
      ],
      "name": "postprocess_extraction+classification.ipynb",
      "provenance": []
    },
    "kernelspec": {
      "display_name": "Python 3",
      "name": "python3"
    },
    "language_info": {
      "name": "python"
    }
  },
  "nbformat": 4,
  "nbformat_minor": 0
}