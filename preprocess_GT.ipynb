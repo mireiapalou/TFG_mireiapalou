{
  "nbformat": 4,
  "nbformat_minor": 0,
  "metadata": {
    "colab": {
      "name": "preprocess_GT.ipynb",
      "provenance": [],
      "collapsed_sections": []
    },
    "kernelspec": {
      "name": "python3",
      "display_name": "Python 3"
    },
    "language_info": {
      "name": "python"
    }
  },
  "cells": [
    {
      "cell_type": "markdown",
      "source": [
        "# Preprocess: ground truth\n",
        "\n",
        "aim: create the image files with the ground truth (only the signal and only the part that corresponds to what was printed)\n",
        "\n",
        "input: Reads .mat files\n",
        "\n",
        "plots the corresponding 12 lead signal\n",
        "\n",
        "output: saves the plot as an image"
      ],
      "metadata": {
        "id": "zFxX5_7lJ2LG"
      }
    },
    {
      "cell_type": "markdown",
      "source": [
        "### Imports"
      ],
      "metadata": {
        "id": "rlCzFsyMKcGi"
      }
    },
    {
      "cell_type": "code",
      "source": [
        "from matplotlib import pyplot as plt\n",
        "import scipy.io\n",
        "import glob\n",
        "import os\n",
        "import zipfile\n",
        "import numpy as np\n",
        "import cv2\n",
        "from sklearn import preprocessing\n",
        "from PIL import Image"
      ],
      "metadata": {
        "id": "zuCRW_g-rss_"
      },
      "execution_count": null,
      "outputs": []
    },
    {
      "cell_type": "code",
      "source": [
        "# define: results_path & data_path"
      ],
      "metadata": {
        "id": "LjdW9ySSWTJe"
      },
      "execution_count": null,
      "outputs": []
    },
    {
      "cell_type": "markdown",
      "source": [
        "### Load .mat files"
      ],
      "metadata": {
        "id": "XrfDUoHZKeFj"
      }
    },
    {
      "cell_type": "code",
      "execution_count": null,
      "metadata": {
        "id": "ad40RJVGCNKo"
      },
      "outputs": [],
      "source": [
        "#load ecg from matlab files\n",
        "os.chdir(data_path+'/mat')\n",
        "\n",
        "# Get a list for .mat files in current folder\n",
        "mat_files = glob.glob('*.mat')\n",
        "\n",
        "# List for stroring all the data\n",
        "alldata = {}\n",
        "\n",
        "# Iterate mat files\n",
        "for fname in mat_files:\n",
        "    # Load mat file data into data.\n",
        "    data = scipy.io.loadmat(fname+'.mat')\n",
        "    # Append data to the list\n",
        "    alldata[fname] = data['ECG']"
      ]
    },
    {
      "cell_type": "code",
      "source": [
        "#there should be 90 total\n",
        "len(alldata)"
      ],
      "metadata": {
        "id": "GaiYuoVSKrP1",
        "colab": {
          "base_uri": "https://localhost:8080/"
        },
        "outputId": "d967c2ee-9586-4def-fddb-73710f57e511"
      },
      "execution_count": null,
      "outputs": [
        {
          "output_type": "execute_result",
          "data": {
            "text/plain": [
              "90"
            ]
          },
          "metadata": {},
          "execution_count": 5
        }
      ]
    },
    {
      "cell_type": "code",
      "source": [
        "datanorm = [0]*12\n",
        "for i in range(12):\n",
        "  datanorm[i] = 7.5*preprocessing.normalize([im[i]])"
      ],
      "metadata": {
        "id": "ZLVy3MXWWcOA"
      },
      "execution_count": null,
      "outputs": []
    },
    {
      "cell_type": "markdown",
      "source": [
        "### func plot ecg"
      ],
      "metadata": {
        "id": "PpH6tymuT7aF"
      }
    },
    {
      "cell_type": "code",
      "source": [
        "!pip install ecg-plot"
      ],
      "metadata": {
        "colab": {
          "base_uri": "https://localhost:8080/"
        },
        "id": "ZuIhDvNC2SYT",
        "outputId": "cb5084e8-1846-43c3-b65d-e8cc027c992e"
      },
      "execution_count": null,
      "outputs": [
        {
          "output_type": "stream",
          "name": "stdout",
          "text": [
            "Collecting ecg-plot\n",
            "  Downloading ecg_plot-0.2.8-py3-none-any.whl (9.2 kB)\n",
            "Installing collected packages: ecg-plot\n",
            "Successfully installed ecg-plot-0.2.8\n"
          ]
        }
      ]
    },
    {
      "cell_type": "code",
      "source": [
        "import ecg_plot\n",
        "\n",
        "li = ['I', 'II', 'III','aVR', 'aVL', 'aVF','V1', 'V2', 'V3','V4', 'V5', 'V6']\n",
        "\n",
        "for id_ in names:\n",
        "  ecg = alldata[id_]['data'][0][0]\n",
        "\n",
        "  datanorm = ecg\n",
        "  shape = []\n",
        "  for i in range(0,12):\n",
        "      datanorm[i,:] = 7.5*preprocessing.normalize([ecg[i,:]])\n",
        "      tmp = datanorm.shape\n",
        "      shape.append(tmp[1])\n",
        "  min_shape = np.amin(shape)\n",
        "\n",
        "  if min_shape > 20000: \n",
        "    ecg_plot.plot(ecg[0:12,0:20000], sample_rate=500, title = '', style = 'bw', columns = 1, row_height= 3, show_separate_line  = False,show_lead_name = False, show_grid = False)\n",
        "    ecg_plot.save_as_jpg(id_,results_path)\n",
        "\n",
        "  else: \n",
        "    ecg_plot.plot(ecg, sample_rate=500, title = '', style = 'bw', columns = 1, row_height= 3, show_separate_line  = False, show_lead_name = False, show_grid = False)\n",
        "    ecg_plot.save_as_jpg(id_,results_path)"
      ],
      "metadata": {
        "id": "BUZThAxd2NP8"
      },
      "execution_count": null,
      "outputs": []
    },
    {
      "cell_type": "markdown",
      "source": [
        "### Load digital (gt) signals"
      ],
      "metadata": {
        "id": "UVe1eMGPcu-J"
      }
    },
    {
      "cell_type": "code",
      "source": [
        "# matlab plotted\n",
        "folder = results_path\n",
        "\n",
        "imgs_mat = {}\n",
        "for filename in os.listdir(folder):\n",
        "  img = cv2.imread(os.path.join(folder,filename))\n",
        "  img = cv2.cvtColor(img, cv2.COLOR_BGR2GRAY)\n",
        "  imgs_mat[filename.strip('.jpg')] = img\n",
        "\n",
        "print(\"No. of images = \", len(imgs_mat))"
      ],
      "metadata": {
        "colab": {
          "base_uri": "https://localhost:8080/"
        },
        "id": "7cDTUZvKSeWw",
        "outputId": "a40ecf97-e15a-4197-86cb-3e4e30f212ee"
      },
      "execution_count": null,
      "outputs": [
        {
          "output_type": "stream",
          "name": "stdout",
          "text": [
            "No. of images =  90\n"
          ]
        }
      ]
    },
    {
      "cell_type": "markdown",
      "source": [
        "### get sizes, proportions of what was printed"
      ],
      "metadata": {
        "id": "H7HDQIfEc2vW"
      }
    },
    {
      "cell_type": "code",
      "source": [
        "#SAVE THE SIZES OF WHAT HAS BEEN PRINTED\n",
        "\n",
        "\n",
        "#FITTED\n",
        "fh = (502, 720) #all width appears but only a part of the height\n",
        "fw = (518, 742) #all height appears but only a part of width\n",
        "\n",
        "for id_ in list(imgs_mat.keys()):\n",
        "  img = imgs_mat[id_]\n",
        "  h,w = img.shape\n",
        "  \n",
        "  fit = fh\n",
        "  if w > 720: # if the picture is too wide it fits only a part (middle)\n",
        "    fit = fw\n",
        "  \n",
        "  ext_h = int((h - fit[0])/2)\n",
        "  ext_w = int((w - fit[1])/2)\n",
        "  \n",
        "  cropped = img[ext_h:(h-ext_h), ext_w:(w-ext_w)]\n",
        "\n",
        "  im = Image.fromarray(cropped)\n",
        "  im.save(data_path+'cropped_mat/'+id_+'.jpg')"
      ],
      "metadata": {
        "id": "UvE_rh_OZQQd"
      },
      "execution_count": null,
      "outputs": []
    }
  ]
}