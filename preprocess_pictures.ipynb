{
  "nbformat": 4,
  "nbformat_minor": 0,
  "metadata": {
    "colab": {
      "name": "preprocess_pictures.ipynb",
      "provenance": [],
      "collapsed_sections": [
        "vOCJrCrGpxY-"
      ]
    },
    "kernelspec": {
      "name": "python3",
      "display_name": "Python 3"
    },
    "language_info": {
      "name": "python"
    }
  },
  "cells": [
    {
      "cell_type": "markdown",
      "source": [
        "# Preprocess: mobile pics\n",
        "input: mobile pics\n",
        "\n",
        "goal: delete part of image where there isnt the scanned record\n",
        "\n",
        "output: new image"
      ],
      "metadata": {
        "id": "vGhDQHv_jrKs"
      }
    },
    {
      "cell_type": "markdown",
      "source": [
        "## Imports"
      ],
      "metadata": {
        "id": "sHGtILAckFKq"
      }
    },
    {
      "cell_type": "code",
      "execution_count": null,
      "metadata": {
        "id": "Pl6v01lc-g2_"
      },
      "outputs": [],
      "source": [
        "import numpy as np\n",
        "import matplotlib.pyplot as plt\n",
        "import cv2 as cv2\n",
        "import zipfile\n",
        "import os\n",
        "from PIL import Image"
      ]
    },
    {
      "cell_type": "code",
      "source": [
        "#define data_path"
      ],
      "metadata": {
        "id": "bli1JIEBXGWs"
      },
      "execution_count": null,
      "outputs": []
    },
    {
      "cell_type": "markdown",
      "source": [
        "## Get input"
      ],
      "metadata": {
        "id": "Rfjsb9ozkJzH"
      }
    },
    {
      "cell_type": "code",
      "source": [
        "#open zip with pics\n",
        "imgzip = open(data_path+'mobile_pics.zip', 'r+b')\n",
        "\n",
        "pics = zipfile.ZipFile(imgzip)\n",
        "ids_p = pics.namelist() # list of names all images in the given path\n",
        "print(\"No. of images = \", len(ids_p))"
      ],
      "metadata": {
        "id": "GVNVLScwXUKd"
      },
      "execution_count": null,
      "outputs": []
    },
    {
      "cell_type": "markdown",
      "source": [
        "## Preprocess"
      ],
      "metadata": {
        "id": "rN23lt2mkTqA"
      }
    },
    {
      "cell_type": "markdown",
      "source": [
        "### Predefined functions"
      ],
      "metadata": {
        "id": "-OtcoVbmpmQ8"
      }
    },
    {
      "cell_type": "code",
      "source": [
        "def find_points(c, borde):\n",
        "  \n",
        "  edges_ = c[borde:c.shape[0]-borde, borde:c.shape[1]-borde]>0\n",
        "\n",
        "  # POINT 1 - upper left\n",
        "  distancia = np.sqrt(edges_.shape[0]**2 + edges_.shape[1]**2)\n",
        "\n",
        "  for i in range(0, edges_.shape[0]//2):\n",
        "      for j in range(0, edges_.shape[1]//2):\n",
        "          if edges_[i,j]:\n",
        "              distancia_aux = np.sqrt((i)**2+(j)**2)\n",
        "              if distancia_aux < distancia:\n",
        "                  distancia = np.copy(distancia_aux)\n",
        "                  point_1 = [j+borde, i+borde]\n",
        "                  \n",
        "  # POINT 2 - upper right\n",
        "  distancia = np.sqrt(edges_.shape[0]**2 + edges_.shape[1]**2)\n",
        "\n",
        "  for i in range(0, edges_.shape[0]//2):\n",
        "      for j in range(edges_.shape[1]//2, edges_.shape[1]):\n",
        "          if edges_[i,j]:\n",
        "              distancia_aux = np.sqrt((i)**2+(edges_.shape[1]-j)**2)\n",
        "              if distancia_aux < distancia:\n",
        "                  distancia = np.copy(distancia_aux)\n",
        "                  point_2 = [j+borde, i+borde]\n",
        "   \n",
        "  # POINT 3 - lower left          \n",
        "  distancia = np.sqrt(edges_.shape[0]**2 + edges_.shape[1]**2)\n",
        "\n",
        "  for i in range(edges_.shape[0]//2, edges_.shape[0]):\n",
        "      for j in range(0, edges_.shape[1]//2):\n",
        "          if edges_[i,j]:\n",
        "              distancia_aux = np.sqrt((edges_.shape[0]-i)**2+(j)**2)\n",
        "              if distancia_aux < distancia:\n",
        "                  distancia = np.copy(distancia_aux)\n",
        "                  point_3 = [j+borde, i+borde]\n",
        "                  \n",
        "  # POINT 4 - lower right              \n",
        "  distancia = np.sqrt(edges_.shape[0]**2 + edges_.shape[1]**2)\n",
        "\n",
        "  for i in range(edges_.shape[0]//2, edges_.shape[0]):\n",
        "      for j in range(edges_.shape[1]//2, edges_.shape[1]):\n",
        "          if edges_[i,j]:\n",
        "              distancia_aux = np.sqrt((edges_.shape[0]-i)**2+(edges_.shape[1]-j)**2)\n",
        "              if distancia_aux < distancia:\n",
        "                  distancia = np.copy(distancia_aux)\n",
        "                  point_4 = [j+borde, i+borde]\n",
        "\n",
        "  return [point_1, point_2, point_3, point_4]"
      ],
      "metadata": {
        "id": "pc4ODMnJkxHO"
      },
      "execution_count": null,
      "outputs": []
    },
    {
      "cell_type": "code",
      "source": [
        "def extract_part(coords, img):\n",
        "\n",
        "  #get some coord\n",
        "  rect = np.zeros((4, 2), dtype = \"float32\")\n",
        "  suma = np.sum(coords, axis=1)\n",
        "  rect[0]= coords[np.argmin(suma)]\n",
        "  rect[2]= coords[np.argmax(suma)]\n",
        "  \n",
        "  diff=-np.diff(coords, axis=1)\n",
        "  rect[1]= coords[np.argmax(diff)]\n",
        "  rect[3]= coords[np.argmin(diff)]\n",
        "  \n",
        "\n",
        "  (tl,tr,br,bl)=rect\n",
        "  \n",
        "  #width of the image\n",
        "  widthA = np.sqrt(((br[0] - bl[0]) ** 2) + ((br[1] - bl[1]) ** 2))\n",
        "  widthB = np.sqrt(((tr[0] - tl[0]) ** 2) + ((tr[1] - tl[1]) ** 2))\n",
        "  maxWidth = max(int(widthA), int(widthB))\n",
        "\n",
        "  #height of the image\n",
        "  heightA = np.sqrt(((tr[0] - br[0]) ** 2) + ((tr[1] - br[1]) ** 2))\n",
        "  heightB = np.sqrt(((tl[0] - bl[0]) ** 2) + ((tl[1] - bl[1]) ** 2))\n",
        "  maxHeight = max(int(heightA), int(heightB))\n",
        "\n",
        "  dst = np.array([[0, 0],[maxWidth - 1, 0],[maxWidth - 1, maxHeight - 1],[0, maxHeight - 1]], dtype = \"float32\")\n",
        "\n",
        "  # compute the perspective transform matrix and then apply it\n",
        "  M = cv2.getPerspectiveTransform(rect, dst)\n",
        "  warped = cv2.warpPerspective(img, M,(maxWidth, maxHeight),cv2.INTER_LANCZOS4|cv2.WARP_INVERSE_MAP, cv2.BORDER_CONSTANT)\n",
        "\n",
        "  return warped"
      ],
      "metadata": {
        "id": "4SogAVADpQmN"
      },
      "execution_count": null,
      "outputs": []
    },
    {
      "cell_type": "markdown",
      "source": [
        "### apply to all pics"
      ],
      "metadata": {
        "id": "cz9GU3nfpqSr"
      }
    },
    {
      "cell_type": "code",
      "source": [
        "#GOOD\n",
        "for id in ids:\n",
        "  #1 GET PIC\n",
        "  im = pics.read(id)\n",
        "  gray = cv2.imdecode(np.frombuffer(im, np.uint8), 0)\n",
        "  #2 REMOVE BACKGROUND\n",
        "  canny = cv2.Canny(gray,30,200)\n",
        "  pp = find_points(canny, 20)\n",
        "  crop = extract_part(pp, gray)\n",
        "  #3 REMOVE MARGINS\n",
        "  canny2 = cv2.Canny(crop,30,100)\n",
        "  p = find_points(canny2, 10)\n",
        "  fcrop = extract_part(p, crop)\n",
        "  #4 SAVE\n",
        "  ims = Image.fromarray(fcrop)\n",
        "  ims.save(data_path+id)"
      ],
      "metadata": {
        "id": "s0p5tnB7eUbN"
      },
      "execution_count": null,
      "outputs": []
    }
  ]
}