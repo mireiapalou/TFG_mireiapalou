{
  "cells": [
    {
      "cell_type": "markdown",
      "metadata": {
        "id": "XegoIajpcGvW"
      },
      "source": [
        "# U - net"
      ]
    },
    {
      "cell_type": "markdown",
      "metadata": {
        "id": "lC21FkLXcSvg"
      },
      "source": [
        "## Imports"
      ]
    },
    {
      "cell_type": "code",
      "execution_count": null,
      "metadata": {
        "colab": {
          "base_uri": "https://localhost:8080/"
        },
        "id": "Lx5EFGWeN4Wv",
        "outputId": "ba3dbc72-c502-4ddb-df2b-53150021f02f"
      },
      "outputs": [
        {
          "output_type": "stream",
          "name": "stdout",
          "text": [
            "Looking in indexes: https://pypi.org/simple, https://us-python.pkg.dev/colab-wheels/public/simple/\n",
            "Collecting keras-adabound\n",
            "  Downloading keras-adabound-0.6.0.tar.gz (5.5 kB)\n",
            "Requirement already satisfied: numpy in /usr/local/lib/python3.7/dist-packages (from keras-adabound) (1.21.6)\n",
            "Requirement already satisfied: Keras in /usr/local/lib/python3.7/dist-packages (from keras-adabound) (2.8.0)\n",
            "Requirement already satisfied: typeguard in /usr/local/lib/python3.7/dist-packages (from keras-adabound) (2.7.1)\n",
            "Building wheels for collected packages: keras-adabound\n",
            "  Building wheel for keras-adabound (setup.py) ... \u001b[?25l\u001b[?25hdone\n",
            "  Created wheel for keras-adabound: filename=keras_adabound-0.6.0-py3-none-any.whl size=6609 sha256=5ef2e76fd4484b97cc7f4a2d2cf2f779586517423fd695cbcbd1328920d74094\n",
            "  Stored in directory: /root/.cache/pip/wheels/3e/bf/39/3d95847ef12aa58c15a6cc7a20f4f21ea39fcd52793e1beea0\n",
            "Successfully built keras-adabound\n",
            "Installing collected packages: keras-adabound\n",
            "Successfully installed keras-adabound-0.6.0\n"
          ]
        }
      ],
      "source": [
        "import cv2\n",
        "\n",
        "import zipfile\n",
        "\n",
        "import os\n",
        "import random\n",
        "import pandas as pd\n",
        "import numpy as np\n",
        "import matplotlib.pyplot as plt\n",
        "plt.style.use(\"ggplot\")\n",
        "%matplotlib inline\n",
        "\n",
        "from PIL import Image\n",
        "from tqdm import notebook, tnrange\n",
        "from itertools import chain\n",
        "from skimage.io import imread, imshow, concatenate_images\n",
        "from skimage.transform import resize\n",
        "#from skimage.morphology import label\n",
        "from sklearn.model_selection import train_test_split\n",
        "\n",
        "import tensorflow as tf\n",
        "\n",
        "\n",
        "from tensorflow import keras\n",
        "from tensorflow.keras import layers\n",
        "from tensorflow.keras.models import Model\n",
        "\n",
        "\n",
        "from keras.preprocessing import image\n",
        "from keras.models import Model, load_model\n",
        "from keras.layers import Input, BatchNormalization, Activation, Dense, Dropout\n",
        "#from keras.layers.core import Lambda, RepeatVector, Reshape\n",
        "from keras.layers.convolutional import Conv2D, Conv2DTranspose\n",
        "from keras.layers.pooling import MaxPooling2D, GlobalMaxPool2D\n",
        "from keras.layers.merge import concatenate, add\n",
        "from keras.callbacks import EarlyStopping, ModelCheckpoint, ReduceLROnPlateau\n",
        "#from tensorflow.keras.optimizers import Adam\n",
        "!pip install keras-adabound\n",
        "from keras_adabound import AdaBound\n",
        "from keras.preprocessing.image import ImageDataGenerator, array_to_img, img_to_array, load_img"
      ]
    },
    {
      "cell_type": "markdown",
      "metadata": {
        "id": "jHRxZ2aIcaRN"
      },
      "source": [
        "## Get ground truth, pics and images names"
      ]
    },
    {
      "cell_type": "code",
      "source": [
        "#define data_path & results_path"
      ],
      "metadata": {
        "id": "SpMt-HRLYlhx"
      },
      "execution_count": null,
      "outputs": []
    },
    {
      "cell_type": "markdown",
      "metadata": {
        "id": "dU2S8HFQNSKq"
      },
      "source": [
        "Ground truth (masks)"
      ]
    },
    {
      "cell_type": "code",
      "execution_count": null,
      "metadata": {
        "colab": {
          "base_uri": "https://localhost:8080/"
        },
        "id": "xiygaaTCsEz-",
        "outputId": "4e0a0423-7582-4a6c-c5ac-eb6039b5f118"
      },
      "outputs": [
        {
          "output_type": "stream",
          "name": "stdout",
          "text": [
            "No. of images =  90\n"
          ]
        }
      ],
      "source": [
        "# mat plotted\n",
        "folder = data_path+'/cropped_mat'\n",
        "\n",
        "imgs_mat = {}\n",
        "for filename in os.listdir(folder):\n",
        "  img = cv2.imread(os.path.join(folder,filename))\n",
        "  img = cv2.cvtColor(img, cv2.COLOR_BGR2GRAY) #bw\n",
        "  _,thresh1 = cv2.threshold(img,175,255,cv2.THRESH_BINARY_INV) #only 0s (background, black) and 255s (whithe, signal)\n",
        "  imgs_mat[filename.strip('.jpg')] = thresh1\n",
        "\n",
        "print(\"No. of images = \", len(imgs_mat))"
      ]
    },
    {
      "cell_type": "markdown",
      "metadata": {
        "id": "i9rhUFi-NVQU"
      },
      "source": [
        "Pictures"
      ]
    },
    {
      "cell_type": "code",
      "source": [
        "#pics - after cropping out the borders and prep\n",
        "\n",
        "folder = data_path+'/mobile_pics'\n",
        "\n",
        "imgs_mp = {}\n",
        "for filename in os.listdir(folder):\n",
        "  img = cv2.imread(os.path.join(folder,filename))\n",
        "  img = cv2.cvtColor(img, cv2.COLOR_BGR2GRAY)\n",
        "  # ret,thresh1 = cv2.threshold(img,127,255,cv2.THRESH_OTSU)\n",
        "  imgs_mp[filename.strip('.jpg')] = img\n",
        "\n",
        "print(\"No. of images = \", len(imgs_mp))"
      ],
      "metadata": {
        "id": "IAKFRWEwYx6P"
      },
      "execution_count": null,
      "outputs": []
    },
    {
      "cell_type": "markdown",
      "metadata": {
        "id": "Uru_SofScjst"
      },
      "source": [
        "## Set some parameters"
      ]
    },
    {
      "cell_type": "code",
      "execution_count": null,
      "metadata": {
        "id": "DpntaxpHTjZL"
      },
      "outputs": [],
      "source": [
        "# Set some parameters\n",
        "im_width = 128\n",
        "im_height = 128"
      ]
    },
    {
      "cell_type": "code",
      "execution_count": null,
      "metadata": {
        "id": "DJtEeCp0TmKe"
      },
      "outputs": [],
      "source": [
        "#init datasets\n",
        "X = []\n",
        "y = []"
      ]
    },
    {
      "cell_type": "markdown",
      "metadata": {
        "id": "dK2P2Puacn5v"
      },
      "source": [
        "## 1. Preprocess: resize images and masks"
      ]
    },
    {
      "cell_type": "code",
      "execution_count": null,
      "metadata": {
        "id": "WGfGIMQIvhwX"
      },
      "outputs": [],
      "source": [
        "#function to separate the patches of an image\n",
        "\n",
        "def patches(img):\n",
        "  h,w = img.shape\n",
        "\n",
        "  patches =[]\n",
        "\n",
        "  for i in range(0,h,im_height): #go vertically 128 each time\n",
        "    for j in range(0,w,im_width): #go horizontally 128 each time\n",
        "      patch = img[i:i+im_height,j:j+im_width]\n",
        "      if patch.shape != (im_height,im_width): #in the edges (padding)\n",
        "        padded_array = np.zeros((im_height, im_width))\n",
        "        padded_array[:patch.shape[0],:patch.shape[1]] = patch\n",
        "      patches.append(patch)\n",
        "\n",
        "  return patches"
      ]
    },
    {
      "cell_type": "code",
      "execution_count": null,
      "metadata": {
        "id": "1_Pd57tKUOYM"
      },
      "outputs": [],
      "source": [
        "#1: preprocess\n",
        "\n",
        "'''go image by image in the dataset and patch them and save them adequately'''\n",
        "'''The mask is the ground truth label. This is what our model must predict'''\n",
        "\n",
        "patch_id = [] #ordered list of samples ids\n",
        "\n",
        "for n, id_ in notebook.tqdm(enumerate(ids), total=len(ids)):\n",
        "  \n",
        "  # Load masks (gt)\n",
        "  mask = imgs_mat[id_] /255.0\n",
        "  h,w = mask.shape\n",
        "  pat_mask = patches(mask) #we have all patches\n",
        "  \n",
        "\n",
        "  # Load images (pics)\n",
        "  x_img = imgs_mp[id_] /255.0  #imgs_cr\n",
        "  x_img = resize(x_img, (h, w), mode = 'constant', preserve_range = True) #supposedly after matching they will be equal so this will not be necessary\n",
        "  pat_img = patches(x_img)\n",
        "\n",
        "  assert len(pat_mask) == len(pat_img)\n",
        "  \n",
        "  #  Save images\n",
        "  for i in range(len(pat_img)):\n",
        "    X.append(resize(pat_img[i], (im_height, im_width, 1), mode = 'constant', preserve_range = True))  #shape must be (h,w,1)\n",
        "    y.append(resize(pat_mask[i], (im_height, im_width, 1), mode = 'constant', preserve_range = True))\n",
        "    patch_id.append(str(i)+id_)\n",
        "\n",
        "X = np.array(X)\n",
        "y = np.array(y)"
      ]
    },
    {
      "cell_type": "markdown",
      "metadata": {
        "id": "DXWqz1BvcueR"
      },
      "source": [
        "## 2. Create training and validation datasets"
      ]
    },
    {
      "cell_type": "code",
      "execution_count": null,
      "metadata": {
        "id": "QqzJWBVmMOFW"
      },
      "outputs": [],
      "source": [
        "# Split train and valid\n",
        "X_train, X_valid, y_train, y_valid = train_test_split(X, y, test_size=0.1, random_state=42)\n",
        "X_t_ids, X_v_ids, y_t_ids, y_v_ids = train_test_split(patch_id, patch_id, test_size=0.1, random_state=42) #to know where everything is"
      ]
    },
    {
      "cell_type": "code",
      "source": [
        "# Visualize any randome image along with the mask\n",
        "\n",
        "ix = random.randint(0, len(X_train)-1)\n",
        "\n",
        "fig, (ax1, ax2) = plt.subplots(1, 2, figsize = (20, 15))\n",
        "\n",
        "ax1.imshow(X_train[ix,...,0],  cmap = 'gray', interpolation = 'bilinear') \n",
        "ax1.set_title('pic')\n",
        "\n",
        "ax2.imshow(y_train[ix].squeeze(), interpolation = 'bilinear')#cmap = 'gray', \n",
        "ax2.set_title('gt')"
      ],
      "metadata": {
        "id": "wA5-Pl8BY_kr"
      },
      "execution_count": null,
      "outputs": []
    },
    {
      "cell_type": "markdown",
      "metadata": {
        "id": "jQ_ToEjhc3Z-"
      },
      "source": [
        "## 3. Set-up the model"
      ]
    },
    {
      "cell_type": "code",
      "execution_count": null,
      "metadata": {
        "id": "Z62cDEIQFnIj"
      },
      "outputs": [],
      "source": [
        "def conv2d_block(input_tensor, n_filters, kernel_size = 3, batchnorm = True):\n",
        "    \"\"\"Function to add 2 convolutional layers with the parameters passed to it\"\"\"\n",
        "    # first layer\n",
        "    x = Conv2D(filters = n_filters, kernel_size = (kernel_size, kernel_size), kernel_initializer = 'he_normal', padding = 'same')(input_tensor)\n",
        "    if batchnorm:\n",
        "        x = BatchNormalization()(x)\n",
        "    x = Activation('relu')(x)\n",
        "    \n",
        "    # second layer\n",
        "    x = Conv2D(filters = n_filters, kernel_size = (kernel_size, kernel_size), kernel_initializer = 'he_normal', padding = 'same')(input_tensor)\n",
        "    if batchnorm:\n",
        "        x = BatchNormalization()(x)\n",
        "    x = Activation('relu')(x)\n",
        "    \n",
        "    return x"
      ]
    },
    {
      "cell_type": "code",
      "execution_count": null,
      "metadata": {
        "id": "71rMOJXzFnIm"
      },
      "outputs": [],
      "source": [
        "def get_unet(input_img, n_filters = 16, dropout = 0.1, batchnorm = True):\n",
        "    \"\"\"Function to define the UNET Model\"\"\"\n",
        "    # Contracting Path\n",
        "    c1 = conv2d_block(input_img, n_filters * 1, kernel_size = 3, batchnorm = batchnorm)\n",
        "    p1 = MaxPooling2D((2, 2))(c1)\n",
        "    p1 = Dropout(dropout)(p1)\n",
        "    \n",
        "    c2 = conv2d_block(p1, n_filters * 2, kernel_size = 3, batchnorm = batchnorm)\n",
        "    p2 = MaxPooling2D((2, 2))(c2)\n",
        "    p2 = Dropout(dropout)(p2)\n",
        "    \n",
        "    c3 = conv2d_block(p2, n_filters * 4, kernel_size = 3, batchnorm = batchnorm)\n",
        "    p3 = MaxPooling2D((2, 2))(c3)\n",
        "    p3 = Dropout(dropout)(p3)\n",
        "    \n",
        "    c4 = conv2d_block(p3, n_filters * 8, kernel_size = 3, batchnorm = batchnorm)\n",
        "    p4 = MaxPooling2D((2, 2))(c4)\n",
        "    p4 = Dropout(dropout)(p4)\n",
        "    \n",
        "    c5 = conv2d_block(p4, n_filters = n_filters * 16, kernel_size = 3, batchnorm = batchnorm)\n",
        "    \n",
        "    # Expansive Path\n",
        "    u6 = Conv2DTranspose(n_filters * 8, (3, 3), strides = (2, 2), padding = 'same')(c5)\n",
        "    u6 = concatenate([u6, c4])\n",
        "    u6 = Dropout(dropout)(u6)\n",
        "    c6 = conv2d_block(u6, n_filters * 8, kernel_size = 3, batchnorm = batchnorm)\n",
        "    \n",
        "    u7 = Conv2DTranspose(n_filters * 4, (3, 3), strides = (2, 2), padding = 'same')(c6)\n",
        "    u7 = concatenate([u7, c3])\n",
        "    u7 = Dropout(dropout)(u7)\n",
        "    c7 = conv2d_block(u7, n_filters * 4, kernel_size = 3, batchnorm = batchnorm)\n",
        "    \n",
        "    u8 = Conv2DTranspose(n_filters * 2, (3, 3), strides = (2, 2), padding = 'same')(c7)\n",
        "    u8 = concatenate([u8, c2])\n",
        "    u8 = Dropout(dropout)(u8)\n",
        "    c8 = conv2d_block(u8, n_filters * 2, kernel_size = 3, batchnorm = batchnorm)\n",
        "    \n",
        "    u9 = Conv2DTranspose(n_filters * 1, (3, 3), strides = (2, 2), padding = 'same')(c8)\n",
        "    u9 = concatenate([u9, c1])\n",
        "    u9 = Dropout(dropout)(u9)\n",
        "    c9 = conv2d_block(u9, n_filters * 1, kernel_size = 3, batchnorm = batchnorm)\n",
        "    \n",
        "    outputs = Conv2D(1, (1, 1), activation='sigmoid')(c9)\n",
        "    model = Model(inputs=[input_img], outputs=[outputs])\n",
        "    return model"
      ]
    },
    {
      "cell_type": "code",
      "execution_count": null,
      "metadata": {
        "id": "Udsm83PiDMYP"
      },
      "outputs": [],
      "source": [
        "# SET-UP MODEL\n",
        "\n",
        "input_img = Input((im_height, im_width,1), name='img')\n",
        "model = get_unet(input_img, n_filters=16, dropout=0.05, batchnorm=True)"
      ]
    },
    {
      "cell_type": "markdown",
      "metadata": {
        "id": "wu2LcAO_c-w9"
      },
      "source": [
        "## 4. Compile"
      ]
    },
    {
      "cell_type": "code",
      "execution_count": null,
      "metadata": {
        "id": "n8mChAEnFnIr"
      },
      "outputs": [],
      "source": [
        "optim = AdaBound( learning_rate = 1e-3, final_lr = 0.1)\n",
        "\n",
        "model.compile(optimizer=optim, loss=\"binary_crossentropy\", metrics=[\"accuracy\"])"
      ]
    },
    {
      "cell_type": "code",
      "execution_count": null,
      "metadata": {
        "id": "y4EQwgU09s30"
      },
      "outputs": [],
      "source": [
        "# model.summary()"
      ]
    },
    {
      "cell_type": "markdown",
      "metadata": {
        "id": "3XdZN5-DdA2Z"
      },
      "source": [
        "## 5. Train"
      ]
    },
    {
      "cell_type": "code",
      "execution_count": null,
      "metadata": {
        "id": "yvzd_CNk90q9"
      },
      "outputs": [],
      "source": [
        "checkpoint_filepath = data_path+'/tmp/checkpoint'\n",
        "\n",
        "callbacks = [\n",
        "    EarlyStopping(patience=10, verbose=1),\n",
        "    ReduceLROnPlateau(factor=0.1, patience=10, min_lr=0.00001, verbose=1),\n",
        "    ModelCheckpoint(filepath=checkpoint_filepath, verbose=1, save_best_only=True, save_weights_only=True)\n",
        "]\n",
        "\n",
        "EPOCHS = 50"
      ]
    },
    {
      "cell_type": "code",
      "execution_count": null,
      "metadata": {
        "id": "FqLDth7X91Zu"
      },
      "outputs": [],
      "source": [
        "results = model.fit(X_train, y_train, batch_size=64, epochs=EPOCHS, callbacks=callbacks, validation_data=(X_valid, y_valid)"
      ]
    },
    {
      "cell_type": "code",
      "execution_count": null,
      "metadata": {
        "colab": {
          "base_uri": "https://localhost:8080/"
        },
        "id": "vPW4XVysdQAz",
        "outputId": "91b6088f-5794-435a-8f8e-1571b79b3bf7"
      },
      "outputs": [
        {
          "output_type": "execute_result",
          "data": {
            "text/plain": [
              "<matplotlib.legend.Legend at 0x7f5355247e90>"
            ]
          },
          "metadata": {},
          "execution_count": 74
        },
        {
          "output_type": "display_data",
          "data": {
            "text/plain": [
              "<Figure size 576x576 with 1 Axes>"
            ],
            "image/png": "[encoded data removed]"
          },
          "metadata": {
            "needs_background": "light"
          }
        }
      ],
      "source": [
        "plt.figure(figsize=(8, 8))\n",
        "plt.title(\"Learning curve\")\n",
        "plt.plot(results.history[\"loss\"], label=\"loss\")\n",
        "plt.plot(results.history[\"val_loss\"], label=\"val_loss\")\n",
        "plt.plot( np.argmin(results.history[\"val_loss\"]), np.min(results.history[\"val_loss\"]), marker=\"x\", color=\"r\", label=\"best model\")\n",
        "plt.xlabel(\"Epochs\")\n",
        "plt.ylabel(\"log_loss\")\n",
        "plt.legend()"
      ]
    },
    {
      "cell_type": "markdown",
      "metadata": {
        "id": "Z_DugKModEFf"
      },
      "source": [
        "## 6. Test"
      ]
    },
    {
      "cell_type": "code",
      "execution_count": null,
      "metadata": {
        "id": "FByc6GwkUxC-"
      },
      "outputs": [],
      "source": [
        "# Evaluate on validation set (this must be equals to the best log_loss)\n",
        "model.evaluate(X_valid, y_valid, verbose=1)\n",
        "\n",
        "# Predict on train, val and test\n",
        "preds_train = model.predict(X_train, verbose=1)\n",
        "preds_val = model.predict(X_valid, verbose=1)\n",
        "\n",
        "# Threshold predictions\n",
        "preds_train_t = (preds_train > 0.5).astype(np.uint8)\n",
        "preds_val_t = (preds_val > 0.5).astype(np.uint8)"
      ]
    },
    {
      "cell_type": "code",
      "execution_count": null,
      "metadata": {
        "id": "wUTo7JZVkcV6"
      },
      "outputs": [],
      "source": [
        "def plot_sample(X, y, preds, binary_preds, ix=None):\n",
        "    \"\"\"Function to plot the results\"\"\"\n",
        "    if ix is None:\n",
        "        ix = random.randint(0, len(X))\n",
        "\n",
        "    has_mask = y[ix].max() > 0\n",
        "\n",
        "    fig, ax = plt.subplots(1, 3, figsize=(20, 10))\n",
        "    ax[0].imshow(X[ix, ..., 0], cmap='gray')\n",
        "    ax[0].set_title('pic')\n",
        "\n",
        "    ax[1].imshow(y[ix].squeeze(), cmap='gray')\n",
        "    ax[1].set_title('gt')\n",
        "\n",
        "    ax[2].imshow(preds[ix].squeeze(), vmin=0, vmax=1) \n",
        "    ax[2].set_title('Predicted')"
      ]
    },
    {
      "cell_type": "code",
      "execution_count": null,
      "metadata": {
        "id": "HUd4P8F9VODm"
      },
      "outputs": [],
      "source": [
        "# Check if training data looks all right\n",
        "for i in range(20):#len(X_train)\n",
        "  plot_sample(X_train, y_train, preds_train, preds_train_t, ix=i)"
      ]
    },
    {
      "cell_type": "code",
      "execution_count": null,
      "metadata": {
        "id": "m4GeV2jRVVD9"
      },
      "outputs": [],
      "source": [
        "# Check if valid data looks all right\n",
        "plot_sample(X_valid, y_valid, preds_val, preds_val_t, ix=9)"
      ]
    },
    {
      "cell_type": "markdown",
      "source": [
        "## 7. Postprocess: repatch"
      ],
      "metadata": {
        "id": "nfEOIwkSGFR7"
      }
    },
    {
      "cell_type": "code",
      "execution_count": null,
      "metadata": {
        "id": "za0HQaOy8Rdj"
      },
      "outputs": [],
      "source": [
        "predicted_imgs = []\n",
        "\n",
        "for id in ids:\n",
        "\n",
        "  img_d = {}\n",
        "\n",
        "  dat = [X_t_ids, X_v_ids]\n",
        "\n",
        "  for c in range(len(dat)):\n",
        "    for i in range(len(dat[c])):\n",
        "      if id in dat[c][i]:\n",
        "        idx = dat[c][i].index(\"A\")\n",
        "        img_d[dat[c][i][:idx]] = str(c)+str(i)\n",
        "\n",
        "\n",
        "  h,w = imgs_mat[id].shape\n",
        "  pv = int(np.ceil(h/128)) #patches vertical\n",
        "  ph = int(len(img_d)/pv) #patches horizontal\n",
        "\n",
        "  row = np.zeros((128,128*6))\n",
        "  overall = np.zeros((128*4,128*6))\n",
        "\n",
        "  n_samp = preds_train.shape[0]\n",
        "\n",
        "  c = 0\n",
        "\n",
        "  for i in range(4):\n",
        "    for j in range(6):\n",
        "      pl = img_d[str(c)]\n",
        "      dat = pl[0]\n",
        "      pos = int(pl[1:])\n",
        "      if dat == '0':\n",
        "        row[:,j*128:(j+1)*128] = preds_train[pos][:,:,-1]\n",
        "      else:\n",
        "        row[:,j*128:(j+1)*128] = preds_val[pos][:,:,-1]\n",
        "      c+=1\n",
        "    overall[i*128:(i+1)*128,:] = row\n",
        "\n",
        "  overall = overall*255\n",
        "  \n",
        "  predicted_imgs.append(overall)"
      ]
    }
  ],
  "metadata": {
    "accelerator": "GPU",
    "colab": {
      "name": "U-NET.ipynb",
      "provenance": [],
      "collapsed_sections": [
        "lC21FkLXcSvg",
        "Uru_SofScjst",
        "dK2P2Puacn5v",
        "jQ_ToEjhc3Z-",
        "wu2LcAO_c-w9",
        "3XdZN5-DdA2Z",
        "nfEOIwkSGFR7",
        "IGV7M3jxy8cq",
        "g1qi_NahCmLY",
        "7rWMyog7pgpf"
      ]
    },
    "kernelspec": {
      "display_name": "Python 3",
      "name": "python3"
    },
    "language_info": {
      "name": "python"
    }
  },
  "nbformat": 4,
  "nbformat_minor": 0
}